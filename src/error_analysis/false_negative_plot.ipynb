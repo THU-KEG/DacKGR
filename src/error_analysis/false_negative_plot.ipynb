{
 "cells": [
  {
   "cell_type": "code",
   "execution_count": 29,
   "metadata": {
    "scrolled": false
   },
   "outputs": [
    {
     "name": "stderr",
     "output_type": "stream",
     "text": [
      "/opt/conda/lib/python3.6/site-packages/matplotlib/cbook/deprecation.py:106: MatplotlibDeprecationWarning: Adding an axes using the same arguments as a previous axes currently reuses the earlier instance.  In a future version, a new instance will always be created and returned.  Meanwhile, this warning can be suppressed, and the future behavior ensured, by passing a unique label to each axes instance.\n",
      "  warnings.warn(message, mplDeprecation, stacklevel=1)\n"
     ]
    },
    {
     "data": {
      "image/png": "[encoded data removed]",
      "text/plain": [
       "<matplotlib.figure.Figure at 0x7f644b42f550>"
      ]
     },
     "metadata": {},
     "output_type": "display_data"
    }
   ],
   "source": [
    "import os\n",
    "import numpy as np\n",
    "import matplotlib.pyplot as plt\n",
    "\n",
    "from matplotlib.ticker import NullFormatter  # useful for `logit` scale\n",
    "\n",
    "def read_data(input_dir):\n",
    "    with open(os.path.join(input_dir, 'fn_ratio.dat')) as f:\n",
    "        y1 = [float(x) for x in f][:20]\n",
    "    with open(os.path.join(input_dir, 'hit_ratio.dat')) as f:\n",
    "        y2 = [float(x) for x in f][:20]\n",
    "    return y1, y2\n",
    "\n",
    "model_dir = '/export/home/xilin/Projects/dtt/model/umls-point-xavier-n/a-200-200-3-0.001-0.3-0.1-0.9-400-0.05/'\n",
    "\n",
    "# hit ratio vs. false negative ratio\n",
    "fig = plt.figure(figsize=(5.5,2.5))\n",
    "y1, y2 = read_data(model_dir)\n",
    "x = np.arange(len(y1))\n",
    "plt.plot(x, y1, '-o', color='lightslategray')\n",
    "# plt.yticks(np.arange(min(y1), max(y1), 0.05))\n",
    "ax = plt.axes()\n",
    "# ax.set_yticklabels(('22.5%', '27.5%', '32.5%', '37.5%', '42.5%'))\n",
    "plt.xticks(np.arange(0, 20, 5.0))\n",
    "# plt.plot(x, y2, '-o')\n",
    "# plt.yscale('linear')\n",
    "plt.xlabel('# epochs', fontsize=14)\n",
    "plt.legend((r'false negative', r'hit'))\n",
    "\n",
    "# Format the minor tick labels of the y-axis into empty strings with\n",
    "# `NullFormatter`, to avoid cumbering the axis with too many labels.\n",
    "plt.gca().yaxis.set_minor_formatter(NullFormatter())\n",
    "# Adjust the subplot layout, because the logit one may take more space\n",
    "# than usual, due to y-tick labels like \"1 - 10^{-3}\"\n",
    "plt.subplots_adjust(top=0.92, bottom=0.08, left=0.10, right=0.95, hspace=0.25,\n",
    "                    wspace=0.35)\n",
    "\n",
    "plt.show()\n",
    "fig.tight_layout()\n",
    "fig.savefig('training_false_negatives.pdf')"
   ]
  },
  {
   "cell_type": "code",
   "execution_count": null,
   "metadata": {},
   "outputs": [],
   "source": []
  },
  {
   "cell_type": "code",
   "execution_count": null,
   "metadata": {},
   "outputs": [],
   "source": []
  }
 ],
 "metadata": {
  "kernelspec": {
   "display_name": "Python 3",
   "language": "python",
   "name": "python3"
  },
  "language_info": {
   "codemirror_mode": {
    "name": "ipython",
    "version": 3
   },
   "file_extension": ".py",
   "mimetype": "text/x-python",
   "name": "python",
   "nbconvert_exporter": "python",
   "pygments_lexer": "ipython3",
   "version": "3.6.5"
  }
 },
 "nbformat": 4,
 "nbformat_minor": 2
}
